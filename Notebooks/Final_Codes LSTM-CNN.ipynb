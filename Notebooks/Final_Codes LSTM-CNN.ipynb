{
 "cells": [
  {
   "cell_type": "markdown",
   "metadata": {
    "colab_type": "text",
    "id": "brDPD_4fqiex"
   },
   "source": [
    "## Imports"
   ]
  },
  {
   "cell_type": "code",
   "execution_count": 0,
   "metadata": {
    "colab": {},
    "colab_type": "code",
    "collapsed": true,
    "id": "jmFm--51VhCn"
   },
   "outputs": [],
   "source": [
    "from pydrive.auth import GoogleAuth\n",
    "from pydrive.drive import GoogleDrive\n",
    "from google.colab import auth\n",
    "from oauth2client.client import GoogleCredentials\n",
    "import os\n",
    "\n",
    "# 1. Authenticate and create the PyDrive client.\n",
    "auth.authenticate_user()\n",
    "gauth = GoogleAuth()\n",
    "gauth.credentials = GoogleCredentials.get_application_default()\n",
    "drive = GoogleDrive(gauth)"
   ]
  },
  {
   "cell_type": "code",
   "execution_count": 2,
   "metadata": {
    "colab": {
     "base_uri": "https://localhost:8080/",
     "height": 128
    },
    "colab_type": "code",
    "id": "dCsxR-aQVpZZ",
    "outputId": "d64aa249-1113-4e74-9721-50faab7c1231"
   },
   "outputs": [
    {
     "name": "stdout",
     "output_type": "stream",
     "text": [
      "Requirement already satisfied: Unidecode in /usr/local/lib/python3.6/dist-packages (1.1.1)\n"
     ]
    },
    {
     "name": "stderr",
     "output_type": "stream",
     "text": [
      "/usr/local/lib/python3.6/dist-packages/statsmodels/tools/_testing.py:19: FutureWarning: pandas.util.testing is deprecated. Use the functions in the public API at pandas.testing instead.\n",
      "  import pandas.util.testing as tm\n"
     ]
    },
    {
     "name": "stdout",
     "output_type": "stream",
     "text": [
      "[nltk_data] Downloading package stopwords to /root/nltk_data...\n",
      "[nltk_data]   Package stopwords is already up-to-date!\n"
     ]
    }
   ],
   "source": [
    "!pip install Unidecode\n",
    "import pandas as pd\n",
    "import numpy as np\n",
    "import re\n",
    "import json\n",
    "import matplotlib.pyplot as plt\n",
    "import seaborn as sns\n",
    "import unidecode\n",
    "import nltk\n",
    "nltk.download('stopwords')\n",
    "from nltk.corpus import stopwords\n",
    "from bs4 import BeautifulSoup\n",
    "import pickle\n",
    "from collections import Counter\n",
    "from html.parser import HTMLParser\n",
    "import warnings\n",
    "warnings.filterwarnings(\"ignore\")\n",
    "%matplotlib inline"
   ]
  },
  {
   "cell_type": "code",
   "execution_count": 3,
   "metadata": {
    "colab": {
     "base_uri": "https://localhost:8080/",
     "height": 598
    },
    "colab_type": "code",
    "id": "8cQKsUNBaJcX",
    "outputId": "33a08563-bbe1-4512-8baa-41809c8ee9f4"
   },
   "outputs": [
    {
     "name": "stderr",
     "output_type": "stream",
     "text": [
      "Using TensorFlow backend.\n"
     ]
    },
    {
     "name": "stdout",
     "output_type": "stream",
     "text": [
      "[name: \"/device:CPU:0\"\n",
      "device_type: \"CPU\"\n",
      "memory_limit: 268435456\n",
      "locality {\n",
      "}\n",
      "incarnation: 5054053243922374279\n",
      ", name: \"/device:XLA_CPU:0\"\n",
      "device_type: \"XLA_CPU\"\n",
      "memory_limit: 17179869184\n",
      "locality {\n",
      "}\n",
      "incarnation: 15245246022695378705\n",
      "physical_device_desc: \"device: XLA_CPU device\"\n",
      ", name: \"/device:XLA_GPU:0\"\n",
      "device_type: \"XLA_GPU\"\n",
      "memory_limit: 17179869184\n",
      "locality {\n",
      "}\n",
      "incarnation: 4410510920496251414\n",
      "physical_device_desc: \"device: XLA_GPU device\"\n",
      ", name: \"/device:GPU:0\"\n",
      "device_type: \"GPU\"\n",
      "memory_limit: 15701463552\n",
      "locality {\n",
      "  bus_id: 1\n",
      "  links {\n",
      "  }\n",
      "}\n",
      "incarnation: 12484200033588559134\n",
      "physical_device_desc: \"device: 0, name: Tesla P100-PCIE-16GB, pci bus id: 0000:00:04.0, compute capability: 6.0\"\n",
      "]\n"
     ]
    }
   ],
   "source": [
    "from __future__ import print_function\n",
    "import tensorflow as tf\n",
    "import keras\n",
    "from keras.preprocessing.text import Tokenizer\n",
    "from keras.preprocessing.sequence import pad_sequences\n",
    "from sklearn.utils import class_weight\n",
    "from keras.models import Sequential\n",
    "from keras.layers import Dense, Dropout, Activation, Flatten, Conv1D, MaxPooling1D, GlobalMaxPool1D, Bidirectional, LSTM  \n",
    "from keras.layers import Embedding\n",
    "from keras.models import Model\n",
    "from keras.utils import to_categorical\n",
    "from keras.optimizers import Adam\n",
    "from tensorflow.python.client import device_lib\n",
    "print(device_lib.list_local_devices())"
   ]
  },
  {
   "cell_type": "markdown",
   "metadata": {
    "colab_type": "text",
    "id": "N1ry1ihLacdg"
   },
   "source": [
    "## Loading Data"
   ]
  },
  {
   "cell_type": "markdown",
   "metadata": {
    "colab_type": "text",
    "id": "_ygMq-5VnDva"
   },
   "source": [
    "### Loading Train and Test data"
   ]
  },
  {
   "cell_type": "code",
   "execution_count": 0,
   "metadata": {
    "colab": {},
    "colab_type": "code",
    "collapsed": true,
    "id": "SjwNKlSwXPG1"
   },
   "outputs": [],
   "source": [
    "col_specification = [(9, 11), (11, 30000)]\n",
    "data_raw = pd.read_fwf(r\"/content/drive/My Drive/MS AI Project/Data/train.ft.txt\", \n",
    "                       colspecs=col_specification, header=None)\n",
    "data_raw.rename(columns={0:'Sentiment', 1:'Review'}, inplace=True)"
   ]
  },
  {
   "cell_type": "code",
   "execution_count": 5,
   "metadata": {
    "colab": {
     "base_uri": "https://localhost:8080/",
     "height": 181
    },
    "colab_type": "code",
    "id": "dz-iyMuyabOX",
    "outputId": "20699b21-bc41-4ef9-a48d-d95c751dc878"
   },
   "outputs": [
    {
     "name": "stdout",
     "output_type": "stream",
     "text": [
      "<class 'pandas.core.frame.DataFrame'>\n",
      "RangeIndex: 3600000 entries, 0 to 3599999\n",
      "Data columns (total 2 columns):\n",
      " #   Column     Dtype \n",
      "---  ------     ----- \n",
      " 0   Sentiment  int64 \n",
      " 1   Review     object\n",
      "dtypes: int64(1), object(1)\n",
      "memory usage: 54.9+ MB\n"
     ]
    }
   ],
   "source": [
    "data_raw.info()"
   ]
  },
  {
   "cell_type": "markdown",
   "metadata": {
    "colab_type": "text",
    "id": "U8sV_ncHnKTj"
   },
   "source": [
    "### Loading GloVe"
   ]
  },
  {
   "cell_type": "code",
   "execution_count": 0,
   "metadata": {
    "colab": {},
    "colab_type": "code",
    "collapsed": true,
    "id": "s_4XSHCtnOvn"
   },
   "outputs": [],
   "source": [
    "# Load data (deserialize)\n",
    "with open(r'/content/drive/My Drive/MS AI Project/Data/embeddings_index.pickle', 'rb') as handle:\n",
    "    embeddings_index = pickle.load(handle)"
   ]
  },
  {
   "cell_type": "markdown",
   "metadata": {
    "colab_type": "text",
    "id": "RJnYqiABblti"
   },
   "source": [
    "## Cleaning Data"
   ]
  },
  {
   "cell_type": "code",
   "execution_count": 7,
   "metadata": {
    "colab": {
     "base_uri": "https://localhost:8080/",
     "height": 206
    },
    "colab_type": "code",
    "id": "2N3ryCh5bqIZ",
    "outputId": "50bd07b1-3ad0-47b1-94dd-2b9c2a58d830"
   },
   "outputs": [
    {
     "data": {
      "text/html": [
       "<div>\n",
       "<style scoped>\n",
       "    .dataframe tbody tr th:only-of-type {\n",
       "        vertical-align: middle;\n",
       "    }\n",
       "\n",
       "    .dataframe tbody tr th {\n",
       "        vertical-align: top;\n",
       "    }\n",
       "\n",
       "    .dataframe thead th {\n",
       "        text-align: right;\n",
       "    }\n",
       "</style>\n",
       "<table border=\"1\" class=\"dataframe\">\n",
       "  <thead>\n",
       "    <tr style=\"text-align: right;\">\n",
       "      <th></th>\n",
       "      <th>Sentiment</th>\n",
       "      <th>Review</th>\n",
       "    </tr>\n",
       "  </thead>\n",
       "  <tbody>\n",
       "    <tr>\n",
       "      <th>0</th>\n",
       "      <td>2</td>\n",
       "      <td>Stuning even for the non-gamer: This sound tra...</td>\n",
       "    </tr>\n",
       "    <tr>\n",
       "      <th>1</th>\n",
       "      <td>2</td>\n",
       "      <td>The best soundtrack ever to anything.: I'm rea...</td>\n",
       "    </tr>\n",
       "    <tr>\n",
       "      <th>2</th>\n",
       "      <td>2</td>\n",
       "      <td>Amazing!: This soundtrack is my favorite music...</td>\n",
       "    </tr>\n",
       "    <tr>\n",
       "      <th>3</th>\n",
       "      <td>2</td>\n",
       "      <td>Excellent Soundtrack: I truly like this soundt...</td>\n",
       "    </tr>\n",
       "    <tr>\n",
       "      <th>4</th>\n",
       "      <td>2</td>\n",
       "      <td>Remember, Pull Your Jaw Off The Floor After He...</td>\n",
       "    </tr>\n",
       "  </tbody>\n",
       "</table>\n",
       "</div>"
      ],
      "text/plain": [
       "   Sentiment                                             Review\n",
       "0          2  Stuning even for the non-gamer: This sound tra...\n",
       "1          2  The best soundtrack ever to anything.: I'm rea...\n",
       "2          2  Amazing!: This soundtrack is my favorite music...\n",
       "3          2  Excellent Soundtrack: I truly like this soundt...\n",
       "4          2  Remember, Pull Your Jaw Off The Floor After He..."
      ]
     },
     "execution_count": 7,
     "metadata": {
      "tags": []
     },
     "output_type": "execute_result"
    }
   ],
   "source": [
    "data_raw.head()"
   ]
  },
  {
   "cell_type": "code",
   "execution_count": 8,
   "metadata": {
    "colab": {
     "base_uri": "https://localhost:8080/",
     "height": 291
    },
    "colab_type": "code",
    "id": "1sXcI2owbrxH",
    "outputId": "c776b5d0-7382-413d-d3bb-60611882b308"
   },
   "outputs": [
    {
     "data": {
      "text/plain": [
       "<matplotlib.axes._subplots.AxesSubplot at 0x7f60d59d4518>"
      ]
     },
     "execution_count": 8,
     "metadata": {
      "tags": []
     },
     "output_type": "execute_result"
    },
    {
     "data": {
      "image/png": "[encoded data removed]",
      "text/plain": [
       "<Figure size 432x288 with 1 Axes>"
      ]
     },
     "metadata": {
      "needs_background": "light",
      "tags": []
     },
     "output_type": "display_data"
    }
   ],
   "source": [
    "## Distribution of ratings\n",
    "data_raw['Sentiment'].value_counts().plot(kind='bar')"
   ]
  },
  {
   "cell_type": "code",
   "execution_count": 9,
   "metadata": {
    "colab": {
     "base_uri": "https://localhost:8080/",
     "height": 72
    },
    "colab_type": "code",
    "id": "wjybUz3gbtwB",
    "outputId": "ace0832b-0496-463b-ee3f-4c6da0298da5"
   },
   "outputs": [
    {
     "data": {
      "text/plain": [
       "Sentiment    0\n",
       "Review       0\n",
       "dtype: int64"
      ]
     },
     "execution_count": 9,
     "metadata": {
      "tags": []
     },
     "output_type": "execute_result"
    }
   ],
   "source": [
    "## Checking Null values\n",
    "data_raw.isna().sum()"
   ]
  },
  {
   "cell_type": "code",
   "execution_count": 0,
   "metadata": {
    "colab": {},
    "colab_type": "code",
    "collapsed": true,
    "id": "zSHpXueNbwBn"
   },
   "outputs": [],
   "source": [
    "## Caching words and creating a dictionary for faster removal of stopwords\n",
    "stopwords = stopwords.words('english')\n",
    "stopwords_dict = dict(Counter(stopwords))\n",
    "\n",
    "### Adding new words\n",
    "stopwords_dict[\"i'd\"] = 1\n",
    "stopwords_dict[\"i'll\"] = 1\n",
    "\n",
    "### removing these words as they help to convey negative sentiment\n",
    "del stopwords_dict['not']\n",
    "del stopwords_dict['no']\n",
    "del stopwords_dict['nor']\n",
    "\n",
    "\n",
    "## Loaded contracted words\n",
    "file = open(r'/content/drive/My Drive/MS AI Project/Data/Contractions.json')\n",
    "json_str = file.read()\n",
    "contractions = json.loads(json_str)\n",
    "\n",
    "\n",
    "## Data cleaning function\n",
    "def data_processor(data, stopwords_dict=stopwords_dict, contractions=contractions):\n",
    "  ## Dropping Null rows having null values in reviewText\n",
    "  data_cleaned = data.loc[~data['Review'].isna()].copy()\n",
    "  print(\"Finished removing null values...\")\n",
    "\n",
    "  ## Removing non-ascii characters\n",
    "  data_cleaned['Review'] = data_cleaned['Review'].apply(lambda x: unidecode.unidecode(x))\n",
    "\n",
    "  ## Removing all the urls\n",
    "  pattern = r\"((http|https)\\:\\/\\/)?[a-zA-Z0-9\\.\\/\\?\\:@\\-_=#]+\\.([a-zA-Z]){2,6}([a-zA-Z0-9\\.\\&\\/\\?\\:@\\-_=#])*\"\n",
    "  data_cleaned['Review'] = data_cleaned['Review'].apply(lambda x: re.sub(pattern,' ', str(x)))\n",
    "  print(\"Finished removing Links/Urls...\")\n",
    "\n",
    "  ## Removing HTML tags\n",
    "  html_parser = HTMLParser()\n",
    "  data_cleaned['Review'] = data_cleaned['Review'].apply(lambda x: html_parser.unescape(x))\n",
    "  \n",
    "  def remove_html_tags(text):\n",
    "      \"\"\"remove html tags from text\"\"\"\n",
    "      content = BeautifulSoup(text, \"html.parser\")\n",
    "      stripped_text = content.get_text(separator=\" \")\n",
    "      return stripped_text\n",
    "\n",
    "  data_cleaned['Review'] = data_cleaned['Review'].apply(lambda x: remove_html_tags(x))\n",
    "  print(\"Finished removing HTML tags\")\n",
    "\n",
    "  ## Expanding words\n",
    "  data_cleaned['Cleaned Text'] = data_cleaned['Review'].apply(lambda x: \n",
    "                                            \" \".join([contractions[word] if word in contractions else word for word in x.split(\" \")]))\n",
    "\n",
    "  \n",
    "  ## Removing all the puntuations & underscores\n",
    "  data_cleaned['Review'] = data_cleaned['Review'].apply(lambda x: re.sub(r'[^\\w\\s\\']',' ', str(x)))\n",
    "  data_cleaned['Review'] = data_cleaned['Review'].apply(lambda x: re.sub(r'[_]',' ', str(x)))\n",
    "\n",
    "  print(\"Finished removing punctuations...\")\n",
    "\n",
    "  ## Replacing all double spaces with single space\n",
    "  data_cleaned['Review'] = data_cleaned['Review'].apply(lambda x: \n",
    "                                                     \" \".join([word for word in x.split(\" \") if word != \"\"]))\n",
    "  print(\"Finished removing extra spaces...\")\n",
    "\n",
    "  ## Removing new line characters\n",
    "  data_cleaned['Review'] = data_cleaned['Review'].apply(lambda x: re.sub(r'\\n',' ', str(x)))\n",
    "  print(\"Finished removing new line charaters...\")\n",
    "\n",
    "  ## Converting the review to lower case\n",
    "  data_cleaned['Review'] = data_cleaned['Review'].apply(lambda x: x.lower())\n",
    "  print(\"Converting to lower case...\")\n",
    "\n",
    "  ## Getting word count for each review \n",
    "  data_cleaned['Word Count'] = data_cleaned['Review'].apply(lambda x: len(x.split(\" \")))\n",
    "  print(\"Getting word count for each review...\")\n",
    "\n",
    "  ## Distribution of word count\n",
    "  plt.figure(figsize=(12,8))\n",
    "  sns.distplot(data_cleaned['Word Count'])\n",
    "\n",
    "  ## Removing stop words from text\n",
    "  data_cleaned['Cleaned Text'] = data_cleaned['Review'].apply(\n",
    "                                lambda x: \" \".join([word for word in x.split(\" \") if word.strip() not in stopwords_dict]))\n",
    "  \n",
    "  ## Final Word count\n",
    "  data_cleaned['Final Word Count'] = data_cleaned['Cleaned Text'].apply(lambda x: len(x.split(\" \")))\n",
    "  \n",
    "  return data_cleaned"
   ]
  },
  {
   "cell_type": "code",
   "execution_count": 11,
   "metadata": {
    "colab": {
     "base_uri": "https://localhost:8080/",
     "height": 642
    },
    "colab_type": "code",
    "id": "ZH6nhzLBcoXi",
    "outputId": "5292b522-92d0-49b5-8e49-f8adba8d8354"
   },
   "outputs": [
    {
     "name": "stdout",
     "output_type": "stream",
     "text": [
      "Finished removing null values...\n",
      "Finished removing Links/Urls...\n",
      "Finished removing HTML tags\n",
      "Finished removing punctuations...\n",
      "Finished removing extra spaces...\n",
      "Finished removing new line charaters...\n",
      "Converting to lower case...\n",
      "Getting word count for each review...\n"
     ]
    },
    {
     "data": {
      "image/png": "[encoded data removed]",
      "text/plain": [
       "<Figure size 864x576 with 1 Axes>"
      ]
     },
     "metadata": {
      "needs_background": "light",
      "tags": []
     },
     "output_type": "display_data"
    }
   ],
   "source": [
    "data_cleaned = data_processor(data_raw)"
   ]
  },
  {
   "cell_type": "markdown",
   "metadata": {
    "colab_type": "text",
    "id": "55FHx4yNn2wD"
   },
   "source": [
    "### Yet more cleaning"
   ]
  },
  {
   "cell_type": "code",
   "execution_count": 12,
   "metadata": {
    "colab": {
     "base_uri": "https://localhost:8080/",
     "height": 35
    },
    "colab_type": "code",
    "id": "z-TukGT5nmUC",
    "outputId": "f134e312-ff12-4309-f82e-c292890e0498"
   },
   "outputs": [
    {
     "name": "stdout",
     "output_type": "stream",
     "text": [
      "Removing 49 reviews...\n"
     ]
    }
   ],
   "source": [
    "### Removing reviews that have Gibberish words\n",
    "data_cleaned['English Word Count'] = data_cleaned['Cleaned Text'].apply(lambda x: \n",
    "                                                                        (sum([True for word in x.split(\" \") if word in embeddings_index.keys()])))\n",
    "data_cleaned['Clean Ratio'] = data_cleaned['English Word Count']/data_cleaned['Final Word Count']\n",
    "\n",
    "print(f\"Removing {len(data_cleaned.loc[data_cleaned['Clean Ratio'] < 0.2])} reviews...\")\n",
    "data_cleaned = data_cleaned.loc[~(data_cleaned['Clean Ratio'] < 0.2)].copy()"
   ]
  },
  {
   "cell_type": "markdown",
   "metadata": {
    "colab_type": "text",
    "id": "XofN3Cpogc8e"
   },
   "source": [
    "## Preparing data for Model"
   ]
  },
  {
   "cell_type": "code",
   "execution_count": 0,
   "metadata": {
    "colab": {},
    "colab_type": "code",
    "collapsed": true,
    "id": "A_wKZ0CigfvY"
   },
   "outputs": [],
   "source": [
    "## Creating review and seniment list\n",
    "review = list(data_cleaned['Cleaned Text'])\n",
    "sentiment = list(data_cleaned['Sentiment'])"
   ]
  },
  {
   "cell_type": "code",
   "execution_count": 0,
   "metadata": {
    "colab": {},
    "colab_type": "code",
    "collapsed": true,
    "id": "S_w7X7rQgiMU"
   },
   "outputs": [],
   "source": [
    "## One-hot encoding Sentiment\n",
    "sentiment_map = {1:0, 2:1}\n",
    "sentiment_labels = list(map(sentiment_map.get, sentiment))\n",
    "sentiment_labels = to_categorical(sentiment_labels)"
   ]
  },
  {
   "cell_type": "code",
   "execution_count": 0,
   "metadata": {
    "colab": {},
    "colab_type": "code",
    "collapsed": true,
    "id": "UxFldzVEgk20"
   },
   "outputs": [],
   "source": [
    "## Preparing tokenizer\n",
    "tokener = Tokenizer()\n",
    "tokener.fit_on_texts(review)"
   ]
  },
  {
   "cell_type": "code",
   "execution_count": 16,
   "metadata": {
    "colab": {
     "base_uri": "https://localhost:8080/",
     "height": 35
    },
    "colab_type": "code",
    "id": "RMUDyKe8gmqT",
    "outputId": "a4008395-3b3b-4b75-ba25-d7aeca7b4a06"
   },
   "outputs": [
    {
     "name": "stdout",
     "output_type": "stream",
     "text": [
      "Number of nuique words 1070266\n"
     ]
    }
   ],
   "source": [
    "## Setting vocab size\n",
    "vocab_size = len(tokener.word_index) + 1\n",
    "print(f\"Number of nuique words {vocab_size}\")"
   ]
  },
  {
   "cell_type": "code",
   "execution_count": 0,
   "metadata": {
    "colab": {},
    "colab_type": "code",
    "collapsed": true,
    "id": "jlr_JW_ZgoN2"
   },
   "outputs": [],
   "source": [
    "## Replacing words with interger index\n",
    "encoded_review = tokener.texts_to_sequences(review)"
   ]
  },
  {
   "cell_type": "code",
   "execution_count": 0,
   "metadata": {
    "colab": {},
    "colab_type": "code",
    "collapsed": true,
    "id": "cOx-aIxZgp2O"
   },
   "outputs": [],
   "source": [
    "## Setting Maximum length and padding if necessary\n",
    "max_length = 200\n",
    "padded_review = pad_sequences(encoded_review, maxlen=max_length, padding='post', truncating='post')"
   ]
  },
  {
   "cell_type": "code",
   "execution_count": 0,
   "metadata": {
    "colab": {},
    "colab_type": "code",
    "collapsed": true,
    "id": "EY4NISzpgrW_"
   },
   "outputs": [],
   "source": [
    "## Creating the embedding matrix\n",
    "embedding_matrix = np.zeros((vocab_size, 300))\n",
    "for word, i in tokener.word_index.items():\n",
    "    embedding_vector = embeddings_index.get(word)\n",
    "    if embedding_vector is not None:\n",
    "        embedding_matrix[i] = embedding_vector"
   ]
  },
  {
   "cell_type": "code",
   "execution_count": 0,
   "metadata": {
    "colab": {},
    "colab_type": "code",
    "collapsed": true,
    "id": "JuOWhfp1pI0_"
   },
   "outputs": [],
   "source": [
    "del data_raw\n",
    "del data_cleaned\n",
    "del review\n",
    "del sentiment"
   ]
  },
  {
   "cell_type": "markdown",
   "metadata": {
    "colab_type": "text",
    "id": "3acLNgQUgxRy"
   },
   "source": [
    "## Defining model and training"
   ]
  },
  {
   "cell_type": "code",
   "execution_count": 0,
   "metadata": {
    "colab": {},
    "colab_type": "code",
    "collapsed": true,
    "id": "bjJcdBSO6XWP"
   },
   "outputs": [],
   "source": [
    "# Define model - Epochs  30\n",
    "model = Sequential(name='LSTM-CNN')\n",
    "\n",
    "# Layer 1: Embedding layer\n",
    "model.add(Embedding(vocab_size, 300, weights=[embedding_matrix], input_length=max_length, trainable=False, name='embedding'))\n",
    "\n",
    "# Layer 2: 1D Convolutional Layer\n",
    "model.add(Bidirectional(LSTM(128, dropout=0.2, recurrent_dropout=0.2, return_sequences=True,)))\n",
    "\n",
    "# # Layer 3: Bi-Directional LSTM\n",
    "model.add(Conv1D(filters = 100, kernel_size = 5, strides = 1, padding = 'same', activation = 'relu'))\n",
    "model.add(Conv1D(filters = 64, kernel_size = 3, strides = 1, padding = 'same', activation = 'relu'))\n",
    "model.add(GlobalMaxPool1D())\n",
    "\n",
    "# Layer 4: Output Layer\n",
    "model.add(Dense(2, activation = 'softmax'))\n",
    "\n",
    "model.compile(optimizer=Adam(learning_rate=0.0001), loss='categorical_crossentropy', metrics=['accuracy'])"
   ]
  },
  {
   "cell_type": "code",
   "execution_count": 0,
   "metadata": {
    "colab": {
     "base_uri": "https://localhost:8080/",
     "height": 380
    },
    "colab_type": "code",
    "id": "V33Gf4uThfWT",
    "outputId": "a2d0c1d5-e0b8-474c-cdd8-d4557a9f4e93"
   },
   "outputs": [
    {
     "name": "stdout",
     "output_type": "stream",
     "text": [
      "Model: \"LSTM-CNN\"\n",
      "_________________________________________________________________\n",
      "Layer (type)                 Output Shape              Param #   \n",
      "=================================================================\n",
      "embedding (Embedding)        (None, 200, 300)          321079800 \n",
      "_________________________________________________________________\n",
      "bidirectional_1 (Bidirection (None, 200, 256)          439296    \n",
      "_________________________________________________________________\n",
      "conv1d_1 (Conv1D)            (None, 200, 100)          128100    \n",
      "_________________________________________________________________\n",
      "conv1d_2 (Conv1D)            (None, 200, 64)           19264     \n",
      "_________________________________________________________________\n",
      "global_max_pooling1d_1 (Glob (None, 64)                0         \n",
      "_________________________________________________________________\n",
      "dense_1 (Dense)              (None, 2)                 130       \n",
      "=================================================================\n",
      "Total params: 321,666,590\n",
      "Trainable params: 586,790\n",
      "Non-trainable params: 321,079,800\n",
      "_________________________________________________________________\n"
     ]
    }
   ],
   "source": [
    "model.summary()"
   ]
  },
  {
   "cell_type": "code",
   "execution_count": 0,
   "metadata": {
    "colab": {
     "base_uri": "https://localhost:8080/",
     "height": 399
    },
    "colab_type": "code",
    "id": "d26sPvFpo9Bo",
    "outputId": "50178eed-180e-434e-a339-717a85cac00a"
   },
   "outputs": [
    {
     "name": "stdout",
     "output_type": "stream",
     "text": [
      "Train on 3419953 samples, validate on 179998 samples\n",
      "Epoch 1/10\n",
      "3419953/3419953 [==============================] - 1060s 310us/step - loss: 0.2893 - accuracy: 0.8762 - val_loss: 0.2289 - val_accuracy: 0.9069\n",
      "Epoch 2/10\n",
      "3419953/3419953 [==============================] - 1053s 308us/step - loss: 0.2251 - accuracy: 0.9089 - val_loss: 0.2017 - val_accuracy: 0.9200\n",
      "Epoch 3/10\n",
      "3419953/3419953 [==============================] - 1051s 307us/step - loss: 0.2096 - accuracy: 0.9163 - val_loss: 0.1925 - val_accuracy: 0.9241\n",
      "Epoch 4/10\n",
      "3419953/3419953 [==============================] - 1052s 308us/step - loss: 0.2007 - accuracy: 0.9205 - val_loss: 0.1861 - val_accuracy: 0.9267\n",
      "Epoch 5/10\n",
      "3419953/3419953 [==============================] - 1053s 308us/step - loss: 0.1941 - accuracy: 0.9233 - val_loss: 0.1804 - val_accuracy: 0.9296\n",
      "Epoch 6/10\n",
      "3419953/3419953 [==============================] - 1051s 307us/step - loss: 0.1888 - accuracy: 0.9258 - val_loss: 0.1765 - val_accuracy: 0.9317\n",
      "Epoch 7/10\n",
      "3419953/3419953 [==============================] - 1049s 307us/step - loss: 0.1844 - accuracy: 0.9278 - val_loss: 0.1734 - val_accuracy: 0.9330\n",
      "Epoch 8/10\n",
      "3419953/3419953 [==============================] - 1046s 306us/step - loss: 0.1807 - accuracy: 0.9294 - val_loss: 0.1703 - val_accuracy: 0.9342\n",
      "Epoch 9/10\n",
      "3419953/3419953 [==============================] - 1048s 307us/step - loss: 0.1774 - accuracy: 0.9309 - val_loss: 0.1698 - val_accuracy: 0.9344\n",
      "Epoch 10/10\n",
      "3419953/3419953 [==============================] - 1045s 306us/step - loss: 0.1746 - accuracy: 0.9320 - val_loss: 0.1673 - val_accuracy: 0.9355\n"
     ]
    }
   ],
   "source": [
    "# Training the model\n",
    "training_log = model.fit(padded_review, sentiment_labels, validation_split=0.05, batch_size=2048, epochs=10, verbose=1)"
   ]
  },
  {
   "cell_type": "code",
   "execution_count": 0,
   "metadata": {
    "colab": {
     "base_uri": "https://localhost:8080/",
     "height": 513
    },
    "colab_type": "code",
    "id": "dlLG0h2_5w7c",
    "outputId": "740b4046-6cdc-4788-a85b-f235a43f2d57"
   },
   "outputs": [
    {
     "data": {
      "image/png": "[encoded data removed]",
      "text/plain": [
       "<Figure size 1080x576 with 1 Axes>"
      ]
     },
     "metadata": {
      "needs_background": "light",
      "tags": []
     },
     "output_type": "display_data"
    }
   ],
   "source": [
    "plt.figure(figsize=(15,8))\n",
    "plt.plot(training_log.history['accuracy'])\n",
    "plt.plot(training_log.history['val_accuracy'])\n",
    "plt.title('Model Accuracy')\n",
    "plt.ylabel('MSE')\n",
    "plt.xlabel('Epoch')\n",
    "plt.legend(['Train', 'Validation'], loc='upper left')\n",
    "plt.show()"
   ]
  },
  {
   "cell_type": "code",
   "execution_count": 0,
   "metadata": {
    "colab": {},
    "colab_type": "code",
    "collapsed": true,
    "id": "e04iBkETq-1X"
   },
   "outputs": [],
   "source": [
    "## Saving model\n",
    "model.save('/content/drive/My Drive/MS AI Project/Data/LSTM_CNN_Embedding.h5')"
   ]
  },
  {
   "cell_type": "markdown",
   "metadata": {
    "colab_type": "text",
    "id": "qCMjOCbcQwy-"
   },
   "source": [
    "## Evaluating model on Test set"
   ]
  },
  {
   "cell_type": "markdown",
   "metadata": {
    "colab_type": "text",
    "id": "a7zkVuywx0gw"
   },
   "source": [
    "### Loading Model"
   ]
  },
  {
   "cell_type": "code",
   "execution_count": 21,
   "metadata": {
    "colab": {
     "base_uri": "https://localhost:8080/",
     "height": 380
    },
    "colab_type": "code",
    "id": "1DLMA0nrx2ju",
    "outputId": "6397e631-3abb-4fcf-f9a0-4856c23efe23"
   },
   "outputs": [
    {
     "name": "stdout",
     "output_type": "stream",
     "text": [
      "Model: \"LSTM-CNN\"\n",
      "_________________________________________________________________\n",
      "Layer (type)                 Output Shape              Param #   \n",
      "=================================================================\n",
      "embedding (Embedding)        (None, 200, 300)          321079800 \n",
      "_________________________________________________________________\n",
      "bidirectional_2 (Bidirection (None, 200, 256)          439296    \n",
      "_________________________________________________________________\n",
      "conv1d_2 (Conv1D)            (None, 200, 100)          128100    \n",
      "_________________________________________________________________\n",
      "conv1d_3 (Conv1D)            (None, 200, 64)           19264     \n",
      "_________________________________________________________________\n",
      "global_max_pooling1d_2 (Glob (None, 64)                0         \n",
      "_________________________________________________________________\n",
      "dense_2 (Dense)              (None, 2)                 130       \n",
      "=================================================================\n",
      "Total params: 321,666,590\n",
      "Trainable params: 586,790\n",
      "Non-trainable params: 321,079,800\n",
      "_________________________________________________________________\n"
     ]
    }
   ],
   "source": [
    "from keras.models import load_model\n",
    "model = load_model('/content/drive/My Drive/MS AI Project/Data/LSTM_CNN_Embedding.h5')\n",
    "model.summary()"
   ]
  },
  {
   "cell_type": "markdown",
   "metadata": {
    "colab_type": "text",
    "id": "SOPB2WfpRRub"
   },
   "source": [
    "### Loading Test data"
   ]
  },
  {
   "cell_type": "code",
   "execution_count": 0,
   "metadata": {
    "colab": {},
    "colab_type": "code",
    "collapsed": true,
    "id": "q9pYV47lQvPv"
   },
   "outputs": [],
   "source": [
    "col_specification = [(9, 11), (11, 30000)]\n",
    "test_data_raw = pd.read_fwf(r\"/content/drive/My Drive/MS AI Project/Data/test.ft.txt\", \n",
    "                       colspecs=col_specification, header=None)\n",
    "test_data_raw.rename(columns={0:'Sentiment', 1:'Review'}, inplace=True)"
   ]
  },
  {
   "cell_type": "markdown",
   "metadata": {
    "colab_type": "text",
    "id": "lGafvNRVRUnm"
   },
   "source": [
    "### Preprocessing Test Data"
   ]
  },
  {
   "cell_type": "code",
   "execution_count": 23,
   "metadata": {
    "colab": {
     "base_uri": "https://localhost:8080/",
     "height": 642
    },
    "colab_type": "code",
    "id": "3_Wz_JOpQ_Il",
    "outputId": "39c4e1e7-9ea4-4ae5-ea27-b30c868f5012"
   },
   "outputs": [
    {
     "name": "stdout",
     "output_type": "stream",
     "text": [
      "Finished removing null values...\n",
      "Finished removing Links/Urls...\n",
      "Finished removing HTML tags\n",
      "Finished removing punctuations...\n",
      "Finished removing extra spaces...\n",
      "Finished removing new line charaters...\n",
      "Converting to lower case...\n",
      "Getting word count for each review...\n"
     ]
    },
    {
     "data": {
      "image/png": "[encoded data removed]",
      "text/plain": [
       "<Figure size 864x576 with 1 Axes>"
      ]
     },
     "metadata": {
      "needs_background": "light",
      "tags": []
     },
     "output_type": "display_data"
    }
   ],
   "source": [
    "data_test_cleaned = data_processor(test_data_raw)"
   ]
  },
  {
   "cell_type": "code",
   "execution_count": 0,
   "metadata": {
    "colab": {},
    "colab_type": "code",
    "collapsed": true,
    "id": "gmoY8KFjRkAJ"
   },
   "outputs": [],
   "source": [
    "## Creating review and seniment list\n",
    "review_test = list(data_test_cleaned['Cleaned Text'])\n",
    "sentiment_test = list(data_test_cleaned['Sentiment'])"
   ]
  },
  {
   "cell_type": "code",
   "execution_count": 0,
   "metadata": {
    "colab": {},
    "colab_type": "code",
    "collapsed": true,
    "id": "AsBUZrXnSBUk"
   },
   "outputs": [],
   "source": [
    "## One-hot encoding Sentiment\n",
    "sentiment_map = {1:0, 2:1}\n",
    "sentiment_test_labels = list(map(sentiment_map.get, sentiment_test))\n",
    "sentiment_test_labels = to_categorical(sentiment_test_labels)"
   ]
  },
  {
   "cell_type": "code",
   "execution_count": 0,
   "metadata": {
    "colab": {},
    "colab_type": "code",
    "collapsed": true,
    "id": "f1INs9QOVlQ-"
   },
   "outputs": [],
   "source": [
    "## Replacing words with interger index\n",
    "encoded_review_test = tokener.texts_to_sequences(review_test)"
   ]
  },
  {
   "cell_type": "code",
   "execution_count": 0,
   "metadata": {
    "colab": {},
    "colab_type": "code",
    "collapsed": true,
    "id": "rWGmDoEWVuX_"
   },
   "outputs": [],
   "source": [
    "## Applying padding\n",
    "padded_review_test = pad_sequences(encoded_review_test, maxlen=max_length, padding='post', truncating='post')"
   ]
  },
  {
   "cell_type": "markdown",
   "metadata": {
    "colab_type": "text",
    "id": "UtSrQFTDWCPo"
   },
   "source": [
    "### Evaluating"
   ]
  },
  {
   "cell_type": "code",
   "execution_count": 28,
   "metadata": {
    "colab": {
     "base_uri": "https://localhost:8080/",
     "height": 35
    },
    "colab_type": "code",
    "id": "DAGSH0aUWCsi",
    "outputId": "88e51ec3-d61b-434a-a04c-b22050e13382"
   },
   "outputs": [
    {
     "name": "stdout",
     "output_type": "stream",
     "text": [
      "400000/400000 [==============================] - 973s 2ms/step\n"
     ]
    }
   ],
   "source": [
    "loss, accuracy = model.evaluate(padded_review_test, sentiment_test_labels, use_multiprocessing=True)"
   ]
  },
  {
   "cell_type": "code",
   "execution_count": 29,
   "metadata": {
    "colab": {
     "base_uri": "https://localhost:8080/",
     "height": 35
    },
    "colab_type": "code",
    "id": "T85w52NBWHlw",
    "outputId": "77615776-fcec-4a8d-8b86-1f1452014f84"
   },
   "outputs": [
    {
     "name": "stdout",
     "output_type": "stream",
     "text": [
      "The test accuracy is 0.9339050054550171\n"
     ]
    }
   ],
   "source": [
    "print(f\"The test accuracy is {accuracy}\")"
   ]
  }
 ],
 "metadata": {
  "accelerator": "GPU",
  "colab": {
   "collapsed_sections": [],
   "machine_shape": "hm",
   "name": "Final Codes - LSTM-CNN",
   "provenance": []
  },
  "kernelspec": {
   "display_name": "Python 3",
   "language": "python",
   "name": "python3"
  },
  "language_info": {
   "codemirror_mode": {
    "name": "ipython",
    "version": 3
   },
   "file_extension": ".py",
   "mimetype": "text/x-python",
   "name": "python",
   "nbconvert_exporter": "python",
   "pygments_lexer": "ipython3",
   "version": "3.6.4"
  }
 },
 "nbformat": 4,
 "nbformat_minor": 1
}
